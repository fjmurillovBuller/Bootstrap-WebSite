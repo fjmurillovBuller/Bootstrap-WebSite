{
  "nbformat": 4,
  "nbformat_minor": 0,
  "metadata": {
    "colab": {
      "name": "agregarCaracter.ipynb",
      "provenance": [],
      "authorship_tag": "ABX9TyOmJBsNpYbWWSy8LpwwD/0R",
      "include_colab_link": true
    },
    "kernelspec": {
      "name": "python3",
      "display_name": "Python 3"
    }
  },
  "cells": [
    {
      "cell_type": "markdown",
      "metadata": {
        "id": "view-in-github",
        "colab_type": "text"
      },
      "source": [
        "<a href=\"https://colab.research.google.com/github/fjmurillovBuller/Bootstrap-WebSite/blob/master/agregarCaracter.ipynb\" target=\"_parent\"><img src=\"https://colab.research.google.com/assets/colab-badge.svg\" alt=\"Open In Colab\"/></a>"
      ]
    },
    {
      "cell_type": "code",
      "metadata": {
        "id": "42wpp6Yax-bY"
      },
      "source": [
        ""
      ],
      "execution_count": null,
      "outputs": []
    },
    {
      "cell_type": "markdown",
      "metadata": {
        "id": "h7t3Il3myGPE"
      },
      "source": [
        "# **Agregar un caracter**"
      ]
    },
    {
      "cell_type": "code",
      "metadata": {
        "colab": {
          "base_uri": "https://localhost:8080/",
          "height": 138
        },
        "id": "YXrw7vFIyLar",
        "outputId": "0d26b1c9-7bc8-4b97-d3e4-bed8355fe29c"
      },
      "source": [
        "print(\"Contador de Caracter\")\n",
        "\n",
        "cantidad= int(input('Cuantas Palabras desea ingresar'))\n",
        "\n",
        "print('.................')\n",
        "\n",
        "for i in range(0,cantidad)\n",
        "\n",
        "palabra = input(\"Ingrese la palabra\")\n",
        "\n",
        "print(\"Palabra: \",palabra, \"\\ncaracteres:\",lent(palabra))\n",
        "\n",
        "print('.............')\n"
      ],
      "execution_count": 5,
      "outputs": [
        {
          "output_type": "error",
          "ename": "SyntaxError",
          "evalue": "ignored",
          "traceback": [
            "\u001b[0;36m  File \u001b[0;32m\"<ipython-input-5-005ef4e783f2>\"\u001b[0;36m, line \u001b[0;32m7\u001b[0m\n\u001b[0;31m    for i in range(0,cantidad)\u001b[0m\n\u001b[0m                              ^\u001b[0m\n\u001b[0;31mSyntaxError\u001b[0m\u001b[0;31m:\u001b[0m invalid syntax\n"
          ]
        }
      ]
    },
    {
      "cell_type": "markdown",
      "metadata": {
        "id": "T_9MluYIyDu9"
      },
      "source": [
        ""
      ]
    }
  ]
}