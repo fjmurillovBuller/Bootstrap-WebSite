{
  "nbformat": 4,
  "nbformat_minor": 0,
  "metadata": {
    "colab": {
      "name": "Untitled1.ipynb",
      "provenance": [],
      "authorship_tag": "ABX9TyOHpNFDCCf5hkZinWNi9wHg",
      "include_colab_link": true
    },
    "kernelspec": {
      "name": "python3",
      "display_name": "Python 3"
    }
  },
  "cells": [
    {
      "cell_type": "markdown",
      "metadata": {
        "id": "view-in-github",
        "colab_type": "text"
      },
      "source": [
        "<a href=\"https://colab.research.google.com/github/fjmurillovBuller/Bootstrap-WebSite/blob/master/Untitled1.ipynb\" target=\"_parent\"><img src=\"https://colab.research.google.com/assets/colab-badge.svg\" alt=\"Open In Colab\"/></a>"
      ]
    },
    {
      "cell_type": "code",
      "metadata": {
        "id": "JPBpIvm5EPgo"
      },
      "source": [
        "monedero = 20\n",
        "monedero= monedero+4\n"
      ],
      "execution_count": 12,
      "outputs": []
    },
    {
      "cell_type": "markdown",
      "metadata": {
        "id": "qluB_uZ8FN1l"
      },
      "source": [
        "# **las Variable en Python**\n",
        "Es el espacio que se genera en memoria\n"
      ]
    },
    {
      "cell_type": "code",
      "metadata": {
        "id": "fMoFu4QvHbEw",
        "outputId": "35716879-61d8-4217-ff05-a223a96a4a3b",
        "colab": {
          "base_uri": "https://localhost:8080/"
        }
      },
      "source": [
        "monedero = 20\n",
        "monedero = monedero + 4\n",
        "print(monedero)\n"
      ],
      "execution_count": 14,
      "outputs": [
        {
          "output_type": "stream",
          "text": [
            "24\n"
          ],
          "name": "stdout"
        }
      ]
    },
    {
      "cell_type": "markdown",
      "metadata": {
        "id": "F9cuXSwKJM5_"
      },
      "source": [
        "# **Operadores Aritmeticos**"
      ]
    },
    {
      "cell_type": "code",
      "metadata": {
        "id": "LE4yzoieJSM2",
        "outputId": "d1d99e07-38a3-4f60-8430-497ca23bc020",
        "colab": {
          "base_uri": "https://localhost:8080/"
        }
      },
      "source": [
        "a= 10\n",
        "b= 5\n",
        "suma =a+b\n",
        "resta = a-b\n",
        "mul = a* b \n",
        "div= a/b\n",
        "divEn = a//b\n",
        "mod = a%b\n",
        "suma,resta,mul,div,divEn, mod \n"
      ],
      "execution_count": 16,
      "outputs": [
        {
          "output_type": "execute_result",
          "data": {
            "text/plain": [
              "(15, 5, 50, 2.0, 2, 0)"
            ]
          },
          "metadata": {
            "tags": []
          },
          "execution_count": 16
        }
      ]
    }
  ]
}