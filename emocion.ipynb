{
  "nbformat": 4,
  "nbformat_minor": 0,
  "metadata": {
    "colab": {
      "name": "emocion.ipynb",
      "provenance": [],
      "authorship_tag": "ABX9TyNXu/tTLvE711wC8jc58Ncp",
      "include_colab_link": true
    },
    "kernelspec": {
      "name": "python3",
      "display_name": "Python 3"
    }
  },
  "cells": [
    {
      "cell_type": "markdown",
      "metadata": {
        "id": "view-in-github",
        "colab_type": "text"
      },
      "source": [
        "<a href=\"https://colab.research.google.com/github/fjmurillovBuller/Bootstrap-WebSite/blob/master/emocion.ipynb\" target=\"_parent\"><img src=\"https://colab.research.google.com/assets/colab-badge.svg\" alt=\"Open In Colab\"/></a>"
      ]
    },
    {
      "cell_type": "code",
      "metadata": {
        "id": "K-vhGV3xPJyg"
      },
      "source": [
        ""
      ],
      "execution_count": null,
      "outputs": []
    },
    {
      "cell_type": "markdown",
      "metadata": {
        "id": "LFdyw_GSPOci"
      },
      "source": [
        "# **este codigo traduce un texto with Python**"
      ]
    },
    {
      "cell_type": "code",
      "metadata": {
        "colab": {
          "base_uri": "https://localhost:8080/",
          "height": 403
        },
        "id": "UnhPbPwtPVgS",
        "outputId": "617404cf-d084-4d2e-91fd-74f21b8cec9a"
      },
      "source": [
        "from googletrans import Translator\n",
        "translator = Translator()\n",
        "\n",
        "texto = ['Me ha gustado mucho esta aplicacion',\n",
        "         'Mi experiencia con esta aplicacion es mala',\n",
        "         'Esta aplicacion me ha servido de ayuda y es genial',\n",
        "         'Esta aplicacion es una mierda',\n",
        "         'No te descarges esta aplicacion']\n",
        "\n",
        "comentarios = []\n",
        "contar = 0\n",
        "for cont in range(len(texto)):\n",
        "    traduccion = translator.translate(texto[contar], src='es', dest='en')\n",
        "    comentarios.append(traduccion.text + \"\")\n",
        "    print(traduccion.text)\n",
        "    contar = contar +1\n",
        "\n",
        "    positive_feedbacks = []\n",
        "    negative_feedbacks = []\n",
        "    for feedback in comentarios:\n",
        "        feedback_polarity = TextBlob(feedback).sentiment.polarity\n",
        "        if feedback_polarity>0:\n",
        "           positive_feedbacks.append(feedback)\n",
        "           continue\n",
        "           negative_feedbacks.append(feedback)\n",
        "\n",
        "print('Positive_feedbacks Count : {}'.format(len(positive_feedbacks)))\n",
        "print(positive_feedbacks)\n",
        "print('Negative_feedback Count :, {}'.format(lent(Negative_feedbacks)))\n",
        "print(Negative_feedbacks)\n",
        "\n",
        "if positive_feedbacks > Negative_feedbacks:\n",
        "    print(\"Sentimiento Positivo.\")\n",
        "else:\n",
        "      print(\"Sentimiento Negativo.\")\n"
      ],
      "execution_count": 9,
      "outputs": [
        {
          "output_type": "error",
          "ename": "ModuleNotFoundError",
          "evalue": "ignored",
          "traceback": [
            "\u001b[0;31m---------------------------------------------------------------------------\u001b[0m",
            "\u001b[0;31mModuleNotFoundError\u001b[0m                       Traceback (most recent call last)",
            "\u001b[0;32m<ipython-input-9-c3b733d545da>\u001b[0m in \u001b[0;36m<module>\u001b[0;34m()\u001b[0m\n\u001b[0;32m----> 1\u001b[0;31m \u001b[0;32mfrom\u001b[0m \u001b[0mgoogletrans\u001b[0m \u001b[0;32mimport\u001b[0m \u001b[0mTranslator\u001b[0m\u001b[0;34m\u001b[0m\u001b[0;34m\u001b[0m\u001b[0m\n\u001b[0m\u001b[1;32m      2\u001b[0m \u001b[0mtranslator\u001b[0m \u001b[0;34m=\u001b[0m \u001b[0mTranslator\u001b[0m\u001b[0;34m(\u001b[0m\u001b[0;34m)\u001b[0m\u001b[0;34m\u001b[0m\u001b[0;34m\u001b[0m\u001b[0m\n\u001b[1;32m      3\u001b[0m \u001b[0;34m\u001b[0m\u001b[0m\n\u001b[1;32m      4\u001b[0m texto = ['Me ha gustado mucho esta aplicacion',\n\u001b[1;32m      5\u001b[0m          \u001b[0;34m'Mi experiencia con esta aplicacion es mala'\u001b[0m\u001b[0;34m,\u001b[0m\u001b[0;34m\u001b[0m\u001b[0;34m\u001b[0m\u001b[0m\n",
            "\u001b[0;31mModuleNotFoundError\u001b[0m: No module named 'googletrans'",
            "",
            "\u001b[0;31m---------------------------------------------------------------------------\u001b[0;32m\nNOTE: If your import is failing due to a missing package, you can\nmanually install dependencies using either !pip or !apt.\n\nTo view examples of installing some common dependencies, click the\n\"Open Examples\" button below.\n\u001b[0;31m---------------------------------------------------------------------------\u001b[0m\n"
          ]
        }
      ]
    }
  ]
}