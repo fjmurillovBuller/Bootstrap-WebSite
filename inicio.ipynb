{
  "nbformat": 4,
  "nbformat_minor": 0,
  "metadata": {
    "colab": {
      "name": "inicio.ipynb",
      "provenance": [],
      "authorship_tag": "ABX9TyOuNs60XEVt/UsiNTvFtT/u",
      "include_colab_link": true
    },
    "kernelspec": {
      "name": "python3",
      "display_name": "Python 3"
    }
  },
  "cells": [
    {
      "cell_type": "markdown",
      "metadata": {
        "id": "view-in-github",
        "colab_type": "text"
      },
      "source": [
        "<a href=\"https://colab.research.google.com/github/fjmurillovBuller/Bootstrap-WebSite/blob/master/inicio.ipynb\" target=\"_parent\"><img src=\"https://colab.research.google.com/assets/colab-badge.svg\" alt=\"Open In Colab\"/></a>"
      ]
    },
    {
      "cell_type": "code",
      "metadata": {
        "id": "tyFvjKqdsWx4"
      },
      "source": [
        ""
      ],
      "execution_count": null,
      "outputs": []
    },
    {
      "cell_type": "code",
      "metadata": {
        "id": "Xdu65a7Asduf",
        "outputId": "52c74fde-f61c-45f3-e936-84a6bd2cbd16",
        "colab": {
          "base_uri": "https://localhost:8080/"
        }
      },
      "source": [
        "print('Hola Mundo de Python with fjmurillov3743')"
      ],
      "execution_count": 1,
      "outputs": [
        {
          "output_type": "stream",
          "text": [
            "Hola Mundo de Python with fjmurillov3743\n"
          ],
          "name": "stdout"
        }
      ]
    },
    {
      "cell_type": "markdown",
      "metadata": {
        "id": "dAkgzsbSsYXZ"
      },
      "source": [
        "presentacion de Colab with Python\n"
      ]
    }
  ]
}